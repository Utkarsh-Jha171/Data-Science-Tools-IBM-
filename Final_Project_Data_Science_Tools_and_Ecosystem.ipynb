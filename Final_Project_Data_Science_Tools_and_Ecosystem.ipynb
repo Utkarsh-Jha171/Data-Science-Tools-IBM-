{
 "cells": [
  {
   "cell_type": "markdown",
   "id": "7eb0179b",
   "metadata": {},
   "source": [
    "# Data Science Tools and Ecosystem"
   ]
  },
  {
   "metadata": {},
   "cell_type": "markdown",
   "source": [
    "## Introduction\n",
    "In this notebook, we will explore some of the key concepts, languages, libraries, and tools that make up the Data Science ecosystem.  \n",
    "We will also include examples of basic arithmetic expressions using code cells."
   ],
   "id": "c948faa6076cbb5c"
  },
  {
   "metadata": {},
   "cell_type": "markdown",
   "source": [
    "## Data Science Languages\n",
    "Some of the popular languages used in Data Science are:\n",
    "- Python\n",
    "- R\n",
    "- SQL\n",
    "- Julia\n",
    "- Scala"
   ],
   "id": "0af3449a"
  },
  {
   "metadata": {},
   "cell_type": "markdown",
   "source": [
    "## Data Science Libraries\n",
    "Some of the commonly used libraries for Data Science are:\n",
    "- Pandas\n",
    "- NumPy\n",
    "- Matplotlib\n",
    "- Scikit-learn\n",
    "- TensorFlow\n",
    "- Keras"
   ],
   "id": "d0712e95"
  },
  {
   "metadata": {},
   "cell_type": "markdown",
   "source": [
    "## Data Science Tools\n",
    "Here is a table of some popular Data Science tools:\n",
    "\n",
    "| Tool           | Category             |\n",
    "|----------------|----------------------|\n",
    "| Jupyter Notebook | Notebook Environment |\n",
    "| RStudio        | IDE                  |\n",
    "| Apache Spark   | Big Data Processing  |\n",
    "| TensorFlow     | Deep Learning        |\n",
    "| Tableau        | Data Visualization   |\n"
   ],
   "id": "1fba58a0"
  },
  {
   "metadata": {},
   "cell_type": "markdown",
   "source": [
    "## Arithmetic Expression Examples\n",
    "Below are some examples of simple arithmetic expressions using Python code."
   ],
   "id": "2c17ea72"
  },
  {
   "metadata": {
    "ExecuteTime": {
     "end_time": "2025-08-20T16:11:48.620946Z",
     "start_time": "2025-08-20T16:11:48.613320Z"
    }
   },
   "cell_type": "code",
   "source": [
    "# This is a simple arithmetic expression to multiply then add integers\n",
    "result = (3 * 4) + 5\n",
    "result"
   ],
   "id": "6d5458b5",
   "outputs": [
    {
     "data": {
      "text/plain": [
       "17"
      ]
     },
     "execution_count": 3,
     "metadata": {},
     "output_type": "execute_result"
    }
   ],
   "execution_count": 3
  },
  {
   "metadata": {
    "ExecuteTime": {
     "end_time": "2025-08-20T16:11:47.602686Z",
     "start_time": "2025-08-20T16:11:47.594916Z"
    }
   },
   "cell_type": "code",
   "source": [
    "# This will convert 200 minutes to hours by dividing by 60\n",
    "minutes = 200\n",
    "hours = minutes / 60\n",
    "hours"
   ],
   "id": "03fce0c2",
   "outputs": [
    {
     "data": {
      "text/plain": [
       "3.3333333333333335"
      ]
     },
     "execution_count": 2,
     "metadata": {},
     "output_type": "execute_result"
    }
   ],
   "execution_count": 2
  },
  {
   "metadata": {},
   "cell_type": "markdown",
   "source": [
    "## Objectives\n",
    "The main objectives of this notebook are:\n",
    "- List popular languages for Data Science\n",
    "- List commonly used libraries in Data Science\n",
    "- Demonstrate some popular Data Science tools\n",
    "- Show examples of arithmetic expressions in Python\n",
    "- Convert minutes into hours using code"
   ],
   "id": "02852ea8"
  },
  {
   "metadata": {},
   "cell_type": "markdown",
   "source": [
    "## Author\n",
    "Utkarsh Jha"
   ],
   "id": "24f6b6f1"
  }
 ],
 "metadata": {
  "kernelspec": {
   "name": "python3",
   "language": "python",
   "display_name": "Python 3 (ipykernel)"
  }
 },
 "nbformat": 4,
 "nbformat_minor": 5
}
